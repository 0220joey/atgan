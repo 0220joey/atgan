{
 "cells": [
  {
   "cell_type": "code",
   "execution_count": 1,
   "metadata": {},
   "outputs": [],
   "source": [
    "import numpy as np\n",
    "%matplotlib inline\n",
    "import matplotlib.pyplot as plt\n",
    "import example\n",
    "reload(example)                                                                                                        \n",
    "import torch                                                                                                            \n",
    "import torchvision                                                                                                      \n",
    "import torchvision.utils as vutils                                                                                      \n",
    "import torchvision.transforms as transforms                                                                             \n",
    "from torch.autograd import Variable                                                                                     \n",
    "import torch.nn as nn                                                                                                   \n",
    "import torch.nn.functional as F                                                                                         \n",
    "import torch.optim as optim                                                                                             \n",
    "import torch.backends.cudnn as cudnn                                                                                    \n",
    "from models.vgg import VGG                                                                                              \n",
    "from models.lenet import LeNet                                                                                          \n",
    "import models.resnet as resnet                                                                                          \n",
    "import models.densenet as densenet                                                                                      \n",
    "import models.alexnet as alexnet                                                                                        \n",
    "import models.googlenet as googlenet                                                                                    \n",
    "import attacks                                                                                                          \n",
    "import numpy as np                                                                                                      \n",
    "import argparse                                                                                                         \n",
    "from collections import OrderedDict                                                                                     "
   ]
  },
  {
   "cell_type": "code",
   "execution_count": 2,
   "metadata": {},
   "outputs": [],
   "source": [
    "unperturbed = np.load(\"/home/romina/APE-GAN/resAPE-GAN.npy\")\n",
    "perturbed = np.load(\"/home/romina/APE-GAN/adv.npy\")\n",
    "orig = np.load(\"/home/romina/APE-GAN/gtData.npy\")\n",
    "np_labels = np.load(\"labels.npy\")"
   ]
  },
  {
   "cell_type": "code",
   "execution_count": 47,
   "metadata": {},
   "outputs": [
    {
     "data": {
      "text/plain": [
       "(10000, 32, 32, 3)"
      ]
     },
     "execution_count": 47,
     "metadata": {},
     "output_type": "execute_result"
    }
   ],
   "source": [
    "unperturbed.shape"
   ]
  },
  {
   "cell_type": "code",
   "execution_count": 3,
   "metadata": {},
   "outputs": [],
   "source": [
    "ape_carlini = np.load(\"/home/romina/APE-GAN/resAPE-GAN_originalcarlini.npy\")\n",
    "carlini = np.load(\"/home/romina/atgan/attacks/cw_adv.npy\")"
   ]
  },
  {
   "cell_type": "code",
   "execution_count": 6,
   "metadata": {},
   "outputs": [
    {
     "data": {
      "text/plain": [
       "(1024, 32, 32, 3)"
      ]
     },
     "execution_count": 6,
     "metadata": {},
     "output_type": "execute_result"
    }
   ],
   "source": [
    "carlini.shape"
   ]
  },
  {
   "cell_type": "code",
   "execution_count": 7,
   "metadata": {},
   "outputs": [
    {
     "data": {
      "text/plain": [
       "(1024, 32, 32, 3)"
      ]
     },
     "execution_count": 7,
     "metadata": {},
     "output_type": "execute_result"
    }
   ],
   "source": [
    "ape_carlini.shape"
   ]
  },
  {
   "cell_type": "code",
   "execution_count": 12,
   "metadata": {},
   "outputs": [
    {
     "data": {
      "text/plain": [
       "<matplotlib.image.AxesImage at 0x7f7c297abd10>"
      ]
     },
     "execution_count": 12,
     "metadata": {},
     "output_type": "execute_result"
    },
    {
     "data": {
      "image/png": "[encoded data removed]",
      "text/plain": [
       "<matplotlib.figure.Figure at 0x7f7c29874ad0>"
      ]
     },
     "metadata": {},
     "output_type": "display_data"
    }
   ],
   "source": [
    "plt.imshow(ape_carlini[4].clip(0,1))"
   ]
  },
  {
   "cell_type": "code",
   "execution_count": 4,
   "metadata": {},
   "outputs": [
    {
     "data": {
      "text/plain": [
       "<matplotlib.image.AxesImage at 0x7fa924702950>"
      ]
     },
     "execution_count": 4,
     "metadata": {},
     "output_type": "execute_result"
    },
    {
     "data": {
      "image/png": "[encoded data removed]",
      "text/plain": [
       "<matplotlib.figure.Figure at 0x7fa99bfcc850>"
      ]
     },
     "metadata": {},
     "output_type": "display_data"
    }
   ],
   "source": [
    "plt.imshow(unperturbed[1].clip(0,1))"
   ]
  },
  {
   "cell_type": "code",
   "execution_count": 6,
   "metadata": {},
   "outputs": [
    {
     "data": {
      "text/plain": [
       "<matplotlib.image.AxesImage at 0x7fa9212f6c90>"
      ]
     },
     "execution_count": 6,
     "metadata": {},
     "output_type": "execute_result"
    },
    {
     "data": {
      "image/png": "[encoded data removed]",
      "text/plain": [
       "<matplotlib.figure.Figure at 0x7fa9213cb490>"
      ]
     },
     "metadata": {},
     "output_type": "display_data"
    }
   ],
   "source": [
    "plt.imshow(perturbed[1].clip(0,1))"
   ]
  },
  {
   "cell_type": "code",
   "execution_count": 7,
   "metadata": {},
   "outputs": [
    {
     "data": {
      "text/plain": [
       "<matplotlib.image.AxesImage at 0x7fa957f5ded0>"
      ]
     },
     "execution_count": 7,
     "metadata": {},
     "output_type": "execute_result"
    },
    {
     "data": {
      "image/png": "[encoded data removed]",
      "text/plain": [
       "<matplotlib.figure.Figure at 0x7fa92134be90>"
      ]
     },
     "metadata": {},
     "output_type": "display_data"
    }
   ],
   "source": [
    "plt.imshow(orig[1].clip(0,1))"
   ]
  },
  {
   "cell_type": "code",
   "execution_count": 6,
   "metadata": {},
   "outputs": [
    {
     "data": {
      "text/plain": [
       "(128, 32, 32, 3)"
      ]
     },
     "execution_count": 6,
     "metadata": {},
     "output_type": "execute_result"
    }
   ],
   "source": [
    "c.shape"
   ]
  },
  {
   "cell_type": "code",
   "execution_count": 13,
   "metadata": {},
   "outputs": [],
   "source": [
    "architectures = {                                                                                                   \n",
    "'VGG16': ['1_GPU_saved_models/VGG16.pth','1_GPU_saved_models/VGG16_attacker_0.005.pth'],                            \n",
    "#'res16': ['1_GPU_saved_models/res18_nodrop_joey.pth','saved/res16_attacker_0.005.pth'],                            \n",
    "'res18':                                                                                                            \n",
    "['1_GPU_saved_models/res18_nodrop_joey.pth','1_GPU_saved_models/res18_nodrop_joey_attacker_0.005.pth'],             \n",
    "'dense121':                                                                                                         \n",
    "['1_GPU_saved_models/dense121_nodrop_joey.pth','1_GPU_saved_models/dense121_nodrop_joey_attacker_0.005.pth'],       \n",
    "'alex':                                                                                                             \n",
    "['1_GPU_saved_models/alex_nodrop_joey.pth','1_GPU_saved_models/alex_nodrop_joey_attacker_0.005.pth'],               \n",
    "'googlenet':                                                                                                        \n",
    "['1_GPU_saved_models/googlenet_nodrop_joey.pth','1_GPU_saved_models/googlenet_nodrop_joey_attacker_0.005.pth'],     \n",
    "'lenet':                                                                                                            \n",
    "['1_GPU_saved_models/lenet_nodrop_joey.pth','1_GPU_saved_models/lenet_nodrop_joey_attacker_0.005.pth']}"
   ]
  },
  {
   "cell_type": "code",
   "execution_count": 14,
   "metadata": {},
   "outputs": [],
   "source": [
    "names = {\n",
    "    'VGG16': VGG,\n",
    "    'res18': resnet.ResNet18,\n",
    "    'dense121': densenet.densenet_cifar,\n",
    "    'alex': alexnet.AlexNet,\n",
    "    'googlenet': googlenet.GoogLeNet,\n",
    "    'lenet': LeNet\n",
    "}"
   ]
  },
  {
   "cell_type": "code",
   "execution_count": 15,
   "metadata": {},
   "outputs": [],
   "source": [
    "classifier_name = 'VGG16'\n",
    "path_to_classifier_weights = architectures[classifier_name][0]\n",
    "criterion = nn.CrossEntropyLoss()\n",
    "#_, testloader = example.load_cifar()\n",
    "modelVGG = example.prep(names[classifier_name]())\n",
    "modelVGG.load_state_dict(torch.load(path_to_classifier_weights))"
   ]
  },
  {
   "cell_type": "code",
   "execution_count": 80,
   "metadata": {},
   "outputs": [],
   "source": [
    "classifier_name = 'res18'\n",
    "path_to_classifier_weights = architectures[classifier_name][0]\n",
    "#criterion = nn.CrossEntropyLoss()\n",
    "#_, testloader = example.load_cifar()\n",
    "modelRES = example.prep(names[classifier_name]())\n",
    "modelRES.load_state_dict(torch.load(path_to_classifier_weights))"
   ]
  },
  {
   "cell_type": "code",
   "execution_count": 82,
   "metadata": {},
   "outputs": [],
   "source": [
    "classifier_name = 'dense121'\n",
    "path_to_classifier_weights = architectures[classifier_name][0]\n",
    "#criterion = nn.CrossEntropyLoss()\n",
    "#_, testloader = example.load_cifar()\n",
    "modelDENSE = example.prep(names[classifier_name]())\n",
    "modelDENSE.load_state_dict(torch.load(path_to_classifier_weights))"
   ]
  },
  {
   "cell_type": "code",
   "execution_count": 83,
   "metadata": {},
   "outputs": [],
   "source": [
    "classifier_name = 'alex'\n",
    "path_to_classifier_weights = architectures[classifier_name][0]\n",
    "#criterion = nn.CrossEntropyLoss()\n",
    "#_, testloader = example.load_cifar()\n",
    "modelALEX = example.prep(names[classifier_name]())\n",
    "modelALEX.load_state_dict(torch.load(path_to_classifier_weights))"
   ]
  },
  {
   "cell_type": "code",
   "execution_count": 5,
   "metadata": {},
   "outputs": [],
   "source": [
    "classifier_name = 'googlenet'\n",
    "path_to_classifier_weights = architectures[classifier_name][0]\n",
    "#criterion = nn.CrossEntropyLoss()\n",
    "#_, testloader = example.load_cifar()\n",
    "modelGOOGLE = example.prep(names[classifier_name]())\n",
    "modelGOOGLE.load_state_dict(torch.load(path_to_classifier_weights))"
   ]
  },
  {
   "cell_type": "code",
   "execution_count": 85,
   "metadata": {},
   "outputs": [],
   "source": [
    "classifier_name = 'lenet'\n",
    "path_to_classifier_weights = architectures[classifier_name][0]\n",
    "#criterion = nn.CrossEntropyLoss()\n",
    "#_, testloader = example.load_cifar()\n",
    "modelLENET = example.prep(names[classifier_name]())\n",
    "modelLENET.load_state_dict(torch.load(path_to_classifier_weights))"
   ]
  },
  {
   "cell_type": "code",
   "execution_count": null,
   "metadata": {},
   "outputs": [],
   "source": []
  },
  {
   "cell_type": "code",
   "execution_count": 27,
   "metadata": {},
   "outputs": [],
   "source": [
    "unperturbed_1 = torch.from_numpy(unperturbed.transpose(0,3,1,2))\n",
    "unperturbed_2 = unperturbed_1.type(torch.FloatTensor)\n",
    "y_hat = model(Variable(unpert_2))\n",
    "predicted = torch.max(y_hat.data, 1)[1]"
   ]
  },
  {
   "cell_type": "code",
   "execution_count": 28,
   "metadata": {},
   "outputs": [
    {
     "data": {
      "text/plain": [
       "4"
      ]
     },
     "execution_count": 28,
     "metadata": {},
     "output_type": "execute_result"
    }
   ],
   "source": [
    "predicted[4]"
   ]
  },
  {
   "cell_type": "code",
   "execution_count": 29,
   "metadata": {},
   "outputs": [
    {
     "data": {
      "text/plain": [
       "1"
      ]
     },
     "execution_count": 29,
     "metadata": {},
     "output_type": "execute_result"
    }
   ],
   "source": [
    "b_1 = torch.from_numpy(b.transpose(0,3,1,2))\n",
    "b_2 = b_1.type(torch.FloatTensor)\n",
    "y_hat = model(Variable(b_2))\n",
    "predicted = torch.max(y_hat.data, 1)[1]\n",
    "predicted[4]"
   ]
  },
  {
   "cell_type": "code",
   "execution_count": 30,
   "metadata": {},
   "outputs": [],
   "source": [
    "c_1 = torch.from_numpy(c.transpose(0,3,1,2))\n",
    "c_2 = c_1.type(torch.FloatTensor)\n",
    "y_hat = model(Variable(c_2))\n",
    "predicted = torch.max(y_hat.data, 1)[1]"
   ]
  },
  {
   "cell_type": "code",
   "execution_count": 49,
   "metadata": {},
   "outputs": [],
   "source": [
    "classifier_name = 'VGG16'\n",
    "path_to_classifier_weights = architectures[classifier_name][0]\n",
    "criterion = nn.CrossEntropyLoss()\n",
    "#_, testloader = example.load_cifar()\n",
    "model = example.prep(VGG())\n",
    "model.load_state_dict(torch.load(path_to_classifier_weights))"
   ]
  },
  {
   "cell_type": "code",
   "execution_count": 49,
   "metadata": {},
   "outputs": [],
   "source": [
    "defensed = torch.from_numpy(unperturbed.transpose(0,3,1,2))\n",
    "defensed = defensed.type(torch.FloatTensor)\n",
    "attacked = torch.from_numpy(perturbed.transpose(0,3,1,2))\n",
    "attacked = attacked.type(torch.FloatTensor)\n",
    "original = torch.from_numpy(orig.transpose(0,3,1,2))\n",
    "original = original.type(torch.FloatTensor)\n",
    "labels = torch.from_numpy(np_labels)\n",
    "labels = labels.type(torch.cuda.LongTensor)"
   ]
  },
  {
   "cell_type": "code",
   "execution_count": 16,
   "metadata": {},
   "outputs": [],
   "source": [
    "defensed = torch.from_numpy(ape_carlini.transpose(0,3,1,2))\n",
    "defensed = defensed.type(torch.FloatTensor)\n",
    "attacked = torch.from_numpy(carlini.transpose(0,3,1,2))\n",
    "attacked = attacked.type(torch.FloatTensor)\n",
    "original = torch.from_numpy(orig.transpose(0,3,1,2))\n",
    "original = original.type(torch.FloatTensor)\n",
    "labels = torch.from_numpy(np_labels)\n",
    "labels = labels.type(torch.cuda.LongTensor)"
   ]
  },
  {
   "cell_type": "code",
   "execution_count": 26,
   "metadata": {},
   "outputs": [],
   "source": [
    "def test(model, defensed, attacked, original, labels):\n",
    "    correct, correct_adv, correct_unperturbed, total = 0.0, 0.0, 0.0, 0.0\n",
    "    \n",
    "    total = 1024\n",
    "    piece_size = 128\n",
    "    nums = (total / piece_size)\n",
    "    print nums\n",
    "    \n",
    "    for i in range(nums):\n",
    "        #get accuracies on model from on all three datasets\n",
    "        #1 original\n",
    "        y_hat = model(Variable(original[i*piece_size:i*piece_size+piece_size,:,:,:]))\n",
    "        predicted = torch.max(y_hat.data, 1)[1]\n",
    "        correct += predicted.eq(labels[i*piece_size:i*piece_size+piece_size]).sum()\n",
    "\n",
    "        #attacked\n",
    "        y_hat_2 = model(Variable(attacked[i*piece_size:i*piece_size+piece_size,:,:,:]))\n",
    "        predicted_2 = torch.max(y_hat_2.data,1)[1]\n",
    "        correct_adv += predicted_2.eq(labels[i*piece_size:i*piece_size+piece_size]).sum()\n",
    "\n",
    "        #defensed\n",
    "        y_hat_3 = model(Variable(defensed[i*piece_size:i*piece_size+piece_size,:,:,:]))\n",
    "        predicted_3 = torch.max(y_hat_3.data,1)[1]\n",
    "        correct_unperturbed += predicted_3.eq(labels[i*piece_size:i*piece_size+piece_size]).sum()\n",
    "        #print i\n",
    "    \n",
    "    return (correct/total)*100.0, (correct_adv/total)*100.0, (correct_unperturbed/total)*100.0\n",
    "    "
   ]
  },
  {
   "cell_type": "code",
   "execution_count": 99,
   "metadata": {},
   "outputs": [
    {
     "data": {
      "text/plain": [
       "(87.44, 15.379999999999999, 67.34)"
      ]
     },
     "execution_count": 99,
     "metadata": {},
     "output_type": "execute_result"
    }
   ],
   "source": [
    "test(modelVGG, defensed,attacked,original,labels)"
   ]
  },
  {
   "cell_type": "code",
   "execution_count": 87,
   "metadata": {},
   "outputs": [
    {
     "data": {
      "text/plain": [
       "(88.94999999999999, 46.27, 72.64)"
      ]
     },
     "execution_count": 87,
     "metadata": {},
     "output_type": "execute_result"
    }
   ],
   "source": [
    "test(modelRES, defensed,attacked,original,labels)"
   ]
  },
  {
   "cell_type": "code",
   "execution_count": 88,
   "metadata": {},
   "outputs": [
    {
     "data": {
      "text/plain": [
       "(80.87, 34.03, 64.86)"
      ]
     },
     "execution_count": 88,
     "metadata": {},
     "output_type": "execute_result"
    }
   ],
   "source": [
    "test(modelDENSE, defensed,attacked,original,labels)"
   ]
  },
  {
   "cell_type": "code",
   "execution_count": 89,
   "metadata": {},
   "outputs": [
    {
     "data": {
      "text/plain": [
       "(68.55, 51.470000000000006, 57.440000000000005)"
      ]
     },
     "execution_count": 89,
     "metadata": {},
     "output_type": "execute_result"
    }
   ],
   "source": [
    "test(modelLENET, defensed,attacked,original,labels)"
   ]
  },
  {
   "cell_type": "code",
   "execution_count": 8,
   "metadata": {},
   "outputs": [
    {
     "name": "stdout",
     "output_type": "stream",
     "text": [
      "200\n"
     ]
    },
    {
     "data": {
      "text/plain": [
       "(86.83, 36.74, 67.22)"
      ]
     },
     "execution_count": 8,
     "metadata": {},
     "output_type": "execute_result"
    }
   ],
   "source": [
    "test(modelGOOGLE, defensed,attacked,original,labels)"
   ]
  },
  {
   "cell_type": "code",
   "execution_count": 92,
   "metadata": {},
   "outputs": [
    {
     "data": {
      "text/plain": [
       "(73.32, 70.56, 67.44)"
      ]
     },
     "execution_count": 92,
     "metadata": {},
     "output_type": "execute_result"
    }
   ],
   "source": [
    "test(modelALEX, defensed,attacked,original,labels)"
   ]
  },
  {
   "cell_type": "markdown",
   "metadata": {},
   "source": [
    "Original carlini_wagner result"
   ]
  },
  {
   "cell_type": "code",
   "execution_count": 27,
   "metadata": {},
   "outputs": [
    {
     "name": "stdout",
     "output_type": "stream",
     "text": [
      "8\n"
     ]
    },
    {
     "data": {
      "text/plain": [
       "(86.71875, 11.9140625, 12.98828125)"
      ]
     },
     "execution_count": 27,
     "metadata": {},
     "output_type": "execute_result"
    }
   ],
   "source": [
    "test(modelVGG, defensed,attacked,original,labels)"
   ]
  },
  {
   "cell_type": "code",
   "execution_count": 59,
   "metadata": {},
   "outputs": [
    {
     "name": "stdout",
     "output_type": "stream",
     "text": [
      "==> Preparing data..\n",
      "Files already downloaded and verified\n",
      "Files already downloaded and verified\n",
      "10000\n",
      "0.0\n",
      "0.0\n",
      "0.0\n",
      "0.0\n",
      "0.0\n"
     ]
    },
    {
     "name": "stderr",
     "output_type": "stream",
     "text": [
      "Process Process-104:\n",
      "Process Process-99:\n",
      "Process Process-98:\n",
      "Process Process-103:\n",
      "Process Process-101:\n",
      "Process Process-102:\n",
      "Process Process-97:\n",
      "Process Process-100:\n",
      "Traceback (most recent call last):\n",
      "Traceback (most recent call last):\n",
      "Traceback (most recent call last):\n",
      "Traceback (most recent call last):\n",
      "Traceback (most recent call last):\n",
      "Traceback (most recent call last):\n",
      "Traceback (most recent call last):\n",
      "  File \"/home/romina/anaconda3/envs/py27/lib/python2.7/multiprocessing/process.py\", line 267, in _bootstrap\n",
      "Traceback (most recent call last):\n",
      "  File \"/home/romina/anaconda3/envs/py27/lib/python2.7/multiprocessing/process.py\", line 267, in _bootstrap\n",
      "  File \"/home/romina/anaconda3/envs/py27/lib/python2.7/multiprocessing/process.py\", line 267, in _bootstrap\n",
      "  File \"/home/romina/anaconda3/envs/py27/lib/python2.7/multiprocessing/process.py\", line 267, in _bootstrap\n",
      "  File \"/home/romina/anaconda3/envs/py27/lib/python2.7/multiprocessing/process.py\", line 267, in _bootstrap\n",
      "    self.run()\n",
      "    self.run()\n",
      "    self.run()\n",
      "  File \"/home/romina/anaconda3/envs/py27/lib/python2.7/multiprocessing/process.py\", line 267, in _bootstrap\n",
      "    self.run()\n",
      "  File \"/home/romina/anaconda3/envs/py27/lib/python2.7/multiprocessing/process.py\", line 267, in _bootstrap\n",
      "  File \"/home/romina/anaconda3/envs/py27/lib/python2.7/multiprocessing/process.py\", line 267, in _bootstrap\n",
      "    self.run()\n",
      "    self.run()\n",
      "  File \"/home/romina/anaconda3/envs/py27/lib/python2.7/multiprocessing/process.py\", line 114, in run\n",
      "  File \"/home/romina/anaconda3/envs/py27/lib/python2.7/multiprocessing/process.py\", line 114, in run\n",
      "  File \"/home/romina/anaconda3/envs/py27/lib/python2.7/multiprocessing/process.py\", line 114, in run\n",
      "  File \"/home/romina/anaconda3/envs/py27/lib/python2.7/multiprocessing/process.py\", line 114, in run\n",
      "  File \"/home/romina/anaconda3/envs/py27/lib/python2.7/multiprocessing/process.py\", line 114, in run\n",
      "    self._target(*self._args, **self._kwargs)\n",
      "    self.run()\n",
      "    self._target(*self._args, **self._kwargs)\n",
      "    self._target(*self._args, **self._kwargs)\n",
      "    self._target(*self._args, **self._kwargs)\n",
      "  File \"/home/romina/anaconda3/envs/py27/lib/python2.7/multiprocessing/process.py\", line 114, in run\n",
      "  File \"/home/romina/anaconda3/envs/py27/lib/python2.7/multiprocessing/process.py\", line 114, in run\n",
      "    self._target(*self._args, **self._kwargs)\n",
      "    self.run()\n",
      "    self._target(*self._args, **self._kwargs)\n",
      "  File \"/home/romina/anaconda3/envs/py27/lib/python2.7/multiprocessing/process.py\", line 114, in run\n",
      "  File \"/home/romina/anaconda3/envs/py27/lib/python2.7/site-packages/torch/utils/data/dataloader.py\", line 34, in _worker_loop\n",
      "  File \"/home/romina/anaconda3/envs/py27/lib/python2.7/site-packages/torch/utils/data/dataloader.py\", line 34, in _worker_loop\n",
      "  File \"/home/romina/anaconda3/envs/py27/lib/python2.7/site-packages/torch/utils/data/dataloader.py\", line 34, in _worker_loop\n",
      "  File \"/home/romina/anaconda3/envs/py27/lib/python2.7/site-packages/torch/utils/data/dataloader.py\", line 34, in _worker_loop\n",
      "    self._target(*self._args, **self._kwargs)\n",
      "  File \"/home/romina/anaconda3/envs/py27/lib/python2.7/site-packages/torch/utils/data/dataloader.py\", line 34, in _worker_loop\n",
      "    self._target(*self._args, **self._kwargs)\n",
      "  File \"/home/romina/anaconda3/envs/py27/lib/python2.7/site-packages/torch/utils/data/dataloader.py\", line 34, in _worker_loop\n",
      "  File \"/home/romina/anaconda3/envs/py27/lib/python2.7/site-packages/torch/utils/data/dataloader.py\", line 34, in _worker_loop\n",
      "    r = index_queue.get()\n",
      "    r = index_queue.get()\n",
      "  File \"/home/romina/anaconda3/envs/py27/lib/python2.7/multiprocessing/queues.py\", line 374, in get\n",
      "    r = index_queue.get()\n",
      "    r = index_queue.get()\n",
      "    r = index_queue.get()\n",
      "    r = index_queue.get()\n",
      "  File \"/home/romina/anaconda3/envs/py27/lib/python2.7/multiprocessing/queues.py\", line 374, in get\n",
      "  File \"/home/romina/anaconda3/envs/py27/lib/python2.7/multiprocessing/queues.py\", line 374, in get\n",
      "    r = index_queue.get()\n",
      "  File \"/home/romina/anaconda3/envs/py27/lib/python2.7/multiprocessing/queues.py\", line 374, in get\n",
      "    racquire()\n",
      "  File \"/home/romina/anaconda3/envs/py27/lib/python2.7/multiprocessing/queues.py\", line 374, in get\n",
      "    racquire()\n",
      "    racquire()\n",
      "    racquire()\n",
      "KeyboardInterrupt\n",
      "KeyboardInterrupt\n",
      "KeyboardInterrupt\n",
      "  File \"/home/romina/anaconda3/envs/py27/lib/python2.7/multiprocessing/queues.py\", line 376, in get\n",
      "    racquire()\n",
      "  File \"/home/romina/anaconda3/envs/py27/lib/python2.7/multiprocessing/queues.py\", line 374, in get\n",
      "    racquire()\n",
      "  File \"/home/romina/anaconda3/envs/py27/lib/python2.7/site-packages/torch/utils/data/dataloader.py\", line 34, in _worker_loop\n",
      "    r = index_queue.get()\n",
      "KeyboardInterrupt\n",
      "  File \"/home/romina/anaconda3/envs/py27/lib/python2.7/multiprocessing/queues.py\", line 374, in get\n",
      "    racquire()\n",
      "KeyboardInterrupt\n",
      "KeyboardInterrupt\n",
      "    return recv()\n"
     ]
    },
    {
     "ename": "KeyboardInterrupt",
     "evalue": "",
     "output_type": "error",
     "traceback": [
      "\u001b[0;31m---------------------------------------------------------------------------\u001b[0m",
      "\u001b[0;31mKeyboardInterrupt\u001b[0m                         Traceback (most recent call last)",
      "\u001b[0;32m<ipython-input-59-3f57a767343b>\u001b[0m in \u001b[0;36m<module>\u001b[0;34m()\u001b[0m\n\u001b[1;32m     19\u001b[0m     \u001b[0;31m#correct += predicted.eq(labels.data).sum()\u001b[0m\u001b[0;34m\u001b[0m\u001b[0;34m\u001b[0m\u001b[0m\n\u001b[1;32m     20\u001b[0m \u001b[0;34m\u001b[0m\u001b[0m\n\u001b[0;32m---> 21\u001b[0;31m     \u001b[0madv_inputs\u001b[0m\u001b[0;34m,\u001b[0m \u001b[0madv_labels\u001b[0m\u001b[0;34m,\u001b[0m \u001b[0mnum_unperturbed\u001b[0m \u001b[0;34m=\u001b[0m \u001b[0mattacker\u001b[0m\u001b[0;34m.\u001b[0m\u001b[0mattack\u001b[0m\u001b[0;34m(\u001b[0m\u001b[0minputs\u001b[0m\u001b[0;34m,\u001b[0m \u001b[0mlabels\u001b[0m\u001b[0;34m,\u001b[0m \u001b[0mmodel\u001b[0m\u001b[0;34m)\u001b[0m\u001b[0;34m\u001b[0m\u001b[0m\n\u001b[0m\u001b[1;32m     22\u001b[0m     \u001b[0;32mfor\u001b[0m \u001b[0mi\u001b[0m \u001b[0;32min\u001b[0m \u001b[0mrange\u001b[0m\u001b[0;34m(\u001b[0m\u001b[0mlen\u001b[0m\u001b[0;34m(\u001b[0m\u001b[0madv_inputs\u001b[0m\u001b[0;34m)\u001b[0m\u001b[0;34m)\u001b[0m\u001b[0;34m:\u001b[0m\u001b[0;34m\u001b[0m\u001b[0m\n\u001b[1;32m     23\u001b[0m         \u001b[0madv\u001b[0m\u001b[0;34m[\u001b[0m\u001b[0mnum_batches\u001b[0m\u001b[0;34m:\u001b[0m\u001b[0mnum_batches\u001b[0m\u001b[0;34m+\u001b[0m\u001b[0;36m1\u001b[0m\u001b[0;34m]\u001b[0m \u001b[0;34m=\u001b[0m \u001b[0madv_inputs\u001b[0m\u001b[0;34m[\u001b[0m\u001b[0mi\u001b[0m\u001b[0;34m]\u001b[0m\u001b[0;34m.\u001b[0m\u001b[0mdata\u001b[0m\u001b[0;34m.\u001b[0m\u001b[0mcpu\u001b[0m\u001b[0;34m(\u001b[0m\u001b[0;34m)\u001b[0m\u001b[0;34m.\u001b[0m\u001b[0mnumpy\u001b[0m\u001b[0;34m(\u001b[0m\u001b[0;34m)\u001b[0m\u001b[0;34m\u001b[0m\u001b[0m\n",
      "\u001b[0;32m/home/romina/atgan/attacks/attacks.pyc\u001b[0m in \u001b[0;36mattack\u001b[0;34m(self, inputs, labels, model, *args)\u001b[0m\n\u001b[1;32m    209\u001b[0m                         \u001b[0;32mfor\u001b[0m \u001b[0mstep\u001b[0m \u001b[0;32min\u001b[0m \u001b[0mrange\u001b[0m\u001b[0;34m(\u001b[0m\u001b[0mself\u001b[0m\u001b[0;34m.\u001b[0m\u001b[0mmax_iterations\u001b[0m\u001b[0;34m)\u001b[0m\u001b[0;34m:\u001b[0m\u001b[0;34m\u001b[0m\u001b[0m\n\u001b[1;32m    210\u001b[0m \t\t\t\tloss, dist, predicted, input_adv = self._optimize(model, optimizer, modifier_var,\n\u001b[0;32m--> 211\u001b[0;31m \t\t\t\t\tinput_vars, label_vars, scale_const_var)\n\u001b[0m\u001b[1;32m    212\u001b[0m \u001b[0;34m\u001b[0m\u001b[0m\n\u001b[1;32m    213\u001b[0m                                 \u001b[0;32mif\u001b[0m \u001b[0mstep\u001b[0m \u001b[0;34m%\u001b[0m \u001b[0;36m10\u001b[0m \u001b[0;34m==\u001b[0m \u001b[0;36m0\u001b[0m \u001b[0;32mor\u001b[0m \u001b[0mstep\u001b[0m \u001b[0;34m==\u001b[0m \u001b[0mself\u001b[0m\u001b[0;34m.\u001b[0m\u001b[0mmax_iterations\u001b[0m \u001b[0;34m-\u001b[0m \u001b[0;36m1\u001b[0m\u001b[0;34m:\u001b[0m\u001b[0;34m\u001b[0m\u001b[0m\n",
      "\u001b[0;32m/home/romina/atgan/attacks/attacks.pyc\u001b[0m in \u001b[0;36m_optimize\u001b[0;34m(self, model, optimizer, modifier, inputs, labels, scale_const)\u001b[0m\n\u001b[1;32m    127\u001b[0m                 \u001b[0munmodified\u001b[0m \u001b[0;34m=\u001b[0m \u001b[0munmodified\u001b[0m \u001b[0;34m*\u001b[0m \u001b[0;34m(\u001b[0m\u001b[0mself\u001b[0m\u001b[0;34m.\u001b[0m\u001b[0mclip_max\u001b[0m \u001b[0;34m-\u001b[0m \u001b[0mself\u001b[0m\u001b[0;34m.\u001b[0m\u001b[0mclip_min\u001b[0m\u001b[0;34m)\u001b[0m \u001b[0;34m+\u001b[0m \u001b[0mself\u001b[0m\u001b[0;34m.\u001b[0m\u001b[0mclip_min\u001b[0m\u001b[0;34m\u001b[0m\u001b[0m\n\u001b[1;32m    128\u001b[0m                 \u001b[0mdist\u001b[0m \u001b[0;34m=\u001b[0m \u001b[0mL2_dist\u001b[0m\u001b[0;34m(\u001b[0m\u001b[0minputs_adv\u001b[0m\u001b[0;34m,\u001b[0m \u001b[0munmodified\u001b[0m\u001b[0;34m)\u001b[0m\u001b[0;34m\u001b[0m\u001b[0m\n\u001b[0;32m--> 129\u001b[0;31m                 \u001b[0mloss2\u001b[0m \u001b[0;34m=\u001b[0m \u001b[0mdist\u001b[0m\u001b[0;34m.\u001b[0m\u001b[0msum\u001b[0m\u001b[0;34m(\u001b[0m\u001b[0;34m)\u001b[0m\u001b[0;34m\u001b[0m\u001b[0m\n\u001b[0m\u001b[1;32m    130\u001b[0m \u001b[0;34m\u001b[0m\u001b[0m\n\u001b[1;32m    131\u001b[0m                 \u001b[0;31m# compute probability of label class and maximum other\u001b[0m\u001b[0;34m\u001b[0m\u001b[0;34m\u001b[0m\u001b[0m\n",
      "\u001b[0;32m/home/romina/anaconda3/envs/py27/lib/python2.7/site-packages/torch/autograd/variable.pyc\u001b[0m in \u001b[0;36msum\u001b[0;34m(self, dim, keepdim)\u001b[0m\n\u001b[1;32m    474\u001b[0m \u001b[0;34m\u001b[0m\u001b[0m\n\u001b[1;32m    475\u001b[0m     \u001b[0;32mdef\u001b[0m \u001b[0msum\u001b[0m\u001b[0;34m(\u001b[0m\u001b[0mself\u001b[0m\u001b[0;34m,\u001b[0m \u001b[0mdim\u001b[0m\u001b[0;34m=\u001b[0m\u001b[0mNone\u001b[0m\u001b[0;34m,\u001b[0m \u001b[0mkeepdim\u001b[0m\u001b[0;34m=\u001b[0m\u001b[0mNone\u001b[0m\u001b[0;34m)\u001b[0m\u001b[0;34m:\u001b[0m\u001b[0;34m\u001b[0m\u001b[0m\n\u001b[0;32m--> 476\u001b[0;31m         \u001b[0;32mreturn\u001b[0m \u001b[0mSum\u001b[0m\u001b[0;34m.\u001b[0m\u001b[0mapply\u001b[0m\u001b[0;34m(\u001b[0m\u001b[0mself\u001b[0m\u001b[0;34m,\u001b[0m \u001b[0mdim\u001b[0m\u001b[0;34m,\u001b[0m \u001b[0mkeepdim\u001b[0m\u001b[0;34m)\u001b[0m\u001b[0;34m\u001b[0m\u001b[0m\n\u001b[0m\u001b[1;32m    477\u001b[0m \u001b[0;34m\u001b[0m\u001b[0m\n\u001b[1;32m    478\u001b[0m     \u001b[0;32mdef\u001b[0m \u001b[0mprod\u001b[0m\u001b[0;34m(\u001b[0m\u001b[0mself\u001b[0m\u001b[0;34m,\u001b[0m \u001b[0mdim\u001b[0m\u001b[0;34m=\u001b[0m\u001b[0mNone\u001b[0m\u001b[0;34m,\u001b[0m \u001b[0mkeepdim\u001b[0m\u001b[0;34m=\u001b[0m\u001b[0mNone\u001b[0m\u001b[0;34m)\u001b[0m\u001b[0;34m:\u001b[0m\u001b[0;34m\u001b[0m\u001b[0m\n",
      "\u001b[0;32m/home/romina/anaconda3/envs/py27/lib/python2.7/site-packages/torch/autograd/_functions/reduce.pyc\u001b[0m in \u001b[0;36mforward\u001b[0;34m(ctx, input, dim, keepdim)\u001b[0m\n\u001b[1;32m     14\u001b[0m         \u001b[0mctx\u001b[0m\u001b[0;34m.\u001b[0m\u001b[0minput_size\u001b[0m \u001b[0;34m=\u001b[0m \u001b[0minput\u001b[0m\u001b[0;34m.\u001b[0m\u001b[0msize\u001b[0m\u001b[0;34m(\u001b[0m\u001b[0;34m)\u001b[0m\u001b[0;34m\u001b[0m\u001b[0m\n\u001b[1;32m     15\u001b[0m         \u001b[0;32mif\u001b[0m \u001b[0mdim\u001b[0m \u001b[0;32mis\u001b[0m \u001b[0mNone\u001b[0m\u001b[0;34m:\u001b[0m\u001b[0;34m\u001b[0m\u001b[0m\n\u001b[0;32m---> 16\u001b[0;31m             \u001b[0;32mreturn\u001b[0m \u001b[0minput\u001b[0m\u001b[0;34m.\u001b[0m\u001b[0mnew\u001b[0m\u001b[0;34m(\u001b[0m\u001b[0;34m(\u001b[0m\u001b[0minput\u001b[0m\u001b[0;34m.\u001b[0m\u001b[0msum\u001b[0m\u001b[0;34m(\u001b[0m\u001b[0;34m)\u001b[0m\u001b[0;34m,\u001b[0m\u001b[0;34m)\u001b[0m\u001b[0;34m)\u001b[0m\u001b[0;34m\u001b[0m\u001b[0m\n\u001b[0m\u001b[1;32m     17\u001b[0m         \u001b[0;32melse\u001b[0m\u001b[0;34m:\u001b[0m\u001b[0;34m\u001b[0m\u001b[0m\n\u001b[1;32m     18\u001b[0m             \u001b[0;32mif\u001b[0m \u001b[0mkeepdim\u001b[0m \u001b[0;32mis\u001b[0m \u001b[0;32mnot\u001b[0m \u001b[0mNone\u001b[0m\u001b[0;34m:\u001b[0m\u001b[0;34m\u001b[0m\u001b[0m\n",
      "\u001b[0;31mKeyboardInterrupt\u001b[0m: "
     ]
    },
    {
     "name": "stderr",
     "output_type": "stream",
     "text": [
      "KeyboardInterrupt\n",
      "  File \"/home/romina/anaconda3/envs/py27/lib/python2.7/site-packages/torch/multiprocessing/queue.py\", line 21, in recv\n",
      "    buf = self.recv_bytes()\n",
      "KeyboardInterrupt\n"
     ]
    }
   ],
   "source": [
    "_, testloader = example.load_cifar()\n",
    "model=modelVGG\n",
    "adv = np.zeros((10000,3,32,32))\n",
    "num_batches = 0\n",
    "use_cuda = True\n",
    "attacker = attacks.CarliniWagner(verbose=False)\n",
    "correct_adv = 0.0\n",
    "\n",
    "for data in testloader:\n",
    "    inputs, labels = data\n",
    "    inputs = Variable((inputs.cuda() if use_cuda else inputs), requires_grad=True)\n",
    "    labels = Variable((labels.cuda() if use_cuda else labels), requires_grad=False)\n",
    "\n",
    "    y_hat = model(inputs)\n",
    "    loss = criterion(y_hat, labels)\n",
    "    loss.backward()\n",
    "\n",
    "    #predicted = torch.max(y_hat.data, 1)[1]\n",
    "    #correct += predicted.eq(labels.data).sum() \n",
    "\n",
    "    adv_inputs, adv_labels, num_unperturbed = attacker.attack(inputs, labels, model)\n",
    "    for i in range(len(adv_inputs)):\n",
    "        adv[num_batches:num_batches+1] = adv_inputs[i].data.cpu().numpy()\n",
    "        num_batches += 1\n",
    "    #adv[num_batches:num_batches + 128] = adv_inputs[:].data.cpu().numpy()\n",
    "    #num_batches += 128\n",
    "    correct_adv += num_unperturbed\n",
    "    print correct_adv\n",
    "\n",
    "    #total += labels.size(0)\n",
    "np.save(\"adv_cw.npy\",adv) \n"
   ]
  },
  {
   "cell_type": "code",
   "execution_count": 24,
   "metadata": {},
   "outputs": [
    {
     "name": "stdout",
     "output_type": "stream",
     "text": [
      "\u001b[0m\u001b[01;34m1_GPU_saved_models\u001b[0m/    \u001b[01;34matt_plots\u001b[0m/                labels.npy      \u001b[01;32msetup\u001b[0m*\r\n",
      "adv_cw.npy             \u001b[01;34mdata\u001b[0m/                     \u001b[01;34mmodels\u001b[0m/         setup_gpu\r\n",
      "adv_fgsm.npy           DCGAN_attack_results.csv  plot.py         test_all.py\r\n",
      "adv.npy                example.py                Preparing       visualize.py\r\n",
      "ape-gan-defense.ipynb  example.pyc               resAPE-GAN.npy\r\n",
      "attacks.py             gtData.npy                \u001b[01;34msaved\u001b[0m/\r\n",
      "attacks.pyc            \u001b[01;34mimages\u001b[0m/                   \u001b[01;34msaved2\u001b[0m/\r\n"
     ]
    }
   ],
   "source": [
    "%ls\n"
   ]
  },
  {
   "cell_type": "code",
   "execution_count": 38,
   "metadata": {},
   "outputs": [],
   "source": [
    "fgsm_perturbed = np.load(\"adv_fgsm.npy\").transpose(0,2,3,1)\n",
    "#fgsm_perturbed = fgsm_perturbed.type(torch.FloatTensor)\n"
   ]
  },
  {
   "cell_type": "code",
   "execution_count": 39,
   "metadata": {},
   "outputs": [],
   "source": [
    "np.save(\"adv_fgsm_t.npy\",fgsm_perturbed)"
   ]
  },
  {
   "cell_type": "code",
   "execution_count": 40,
   "metadata": {},
   "outputs": [],
   "source": [
    "cw_perturbed = np.load(\"adv_cw.npy\").transpose(0,2,3,1)\n",
    "#cw_perturbed = cw_perturbed.type(torch.FloatTensor)\n",
    "np.save(\"adv_cw_t.npy\",cw_perturbed)"
   ]
  },
  {
   "cell_type": "code",
   "execution_count": 41,
   "metadata": {},
   "outputs": [],
   "source": [
    "%cp adv_cw_t.npy ~/APE-GAN/\n",
    "%cp adv_fgsm_t.npy ~/APE-GAN/"
   ]
  },
  {
   "cell_type": "markdown",
   "metadata": {},
   "source": [
    "Ran ape_gan"
   ]
  },
  {
   "cell_type": "code",
   "execution_count": 42,
   "metadata": {},
   "outputs": [],
   "source": [
    "%cp /home/romina/APE-GAN/res_ape_fgsm.npy .\n",
    "%cp /home/romina/APE-GAN/res_ape_cw.npy ."
   ]
  },
  {
   "cell_type": "code",
   "execution_count": 43,
   "metadata": {},
   "outputs": [
    {
     "name": "stdout",
     "output_type": "stream",
     "text": [
      "\u001b[0m\u001b[01;34m1_GPU_saved_models\u001b[0m/    attacks.pyc               labels.npy        \u001b[01;34msaved2\u001b[0m/\r\n",
      "adv_cw.npy             \u001b[01;34matt_plots\u001b[0m/                \u001b[01;34mmodels\u001b[0m/           \u001b[01;32msetup\u001b[0m*\r\n",
      "adv_cw_t.npy           \u001b[01;34mdata\u001b[0m/                     plot.py           setup_gpu\r\n",
      "adv_fgsm.npy           DCGAN_attack_results.csv  Preparing         test_all.py\r\n",
      "adv_fgsm_t.npy         example.py                res_ape_cw.npy    visualize.py\r\n",
      "adv.npy                example.pyc               res_ape_fgsm.npy\r\n",
      "ape-gan-defense.ipynb  gtData.npy                resAPE-GAN.npy\r\n",
      "attacks.py             \u001b[01;34mimages\u001b[0m/                   \u001b[01;34msaved\u001b[0m/\r\n"
     ]
    }
   ],
   "source": [
    "%ls"
   ]
  },
  {
   "cell_type": "code",
   "execution_count": 52,
   "metadata": {},
   "outputs": [],
   "source": [
    "fgsm_attacked = torch.from_numpy(np.load(\"adv_fgsm.npy\"))\n",
    "fgsm_attacked = fgsm_attacked.type(torch.FloatTensor)\n",
    "fgsm_unperturbed = torch.from_numpy(np.load(\"res_ape_fgsm.npy\").transpose(0,3,1,2))\n",
    "fgsm_unperturbed = fgsm_unperturbed.type(torch.FloatTensor)"
   ]
  },
  {
   "cell_type": "code",
   "execution_count": 58,
   "metadata": {},
   "outputs": [
    {
     "name": "stdout",
     "output_type": "stream",
     "text": [
      "100\n"
     ]
    },
    {
     "data": {
      "text/plain": [
       "(87.44, 27.060000000000002, 40.48)"
      ]
     },
     "execution_count": 58,
     "metadata": {},
     "output_type": "execute_result"
    }
   ],
   "source": [
    "test(modelVGG, fgsm_unperturbed,fgsm_attacked,original,labels)"
   ]
  },
  {
   "cell_type": "code",
   "execution_count": 54,
   "metadata": {},
   "outputs": [],
   "source": [
    "cw_attacked = torch.from_numpy(np.load(\"adv_cw.npy\"))\n",
    "cw_attacked = cw_attacked.type(torch.FloatTensor)\n",
    "cw_unperturbed = torch.from_numpy(np.load(\"res_ape_cw.npy\").transpose(0,3,1,2))\n",
    "cw_unperturbed = cw_unperturbed.type(torch.FloatTensor)"
   ]
  },
  {
   "cell_type": "code",
   "execution_count": 57,
   "metadata": {},
   "outputs": [
    {
     "name": "stdout",
     "output_type": "stream",
     "text": [
      "100\n"
     ]
    },
    {
     "data": {
      "text/plain": [
       "(87.44, 58.540000000000006, 78.24)"
      ]
     },
     "execution_count": 57,
     "metadata": {},
     "output_type": "execute_result"
    }
   ],
   "source": [
    "test(modelVGG, cw_unperturbed,cw_attacked,original,labels)"
   ]
  },
  {
   "cell_type": "code",
   "execution_count": null,
   "metadata": {},
   "outputs": [],
   "source": []
  }
 ],
 "metadata": {
  "kernelspec": {
   "display_name": "Python 2",
   "language": "python",
   "name": "python2"
  },
  "language_info": {
   "codemirror_mode": {
    "name": "ipython",
    "version": 2
   },
   "file_extension": ".py",
   "mimetype": "text/x-python",
   "name": "python",
   "nbconvert_exporter": "python",
   "pygments_lexer": "ipython2",
   "version": "2.7.14"
  }
 },
 "nbformat": 4,
 "nbformat_minor": 2
}
